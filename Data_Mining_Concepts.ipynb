{
 "cells": [
  {
   "cell_type": "code",
   "execution_count": 5,
   "metadata": {},
   "outputs": [],
   "source": [
    "import numpy as np\n",
    "import pandas as pd\n",
    "import csv as cv"
   ]
  },
  {
   "cell_type": "code",
   "execution_count": 6,
   "metadata": {},
   "outputs": [],
   "source": [
    "df = pd.read_csv('source.csv')"
   ]
  },
  {
   "cell_type": "code",
   "execution_count": 12,
   "metadata": {},
   "outputs": [
    {
     "data": {
      "text/html": [
       "<div>\n",
       "<style scoped>\n",
       "    .dataframe tbody tr th:only-of-type {\n",
       "        vertical-align: middle;\n",
       "    }\n",
       "\n",
       "    .dataframe tbody tr th {\n",
       "        vertical-align: top;\n",
       "    }\n",
       "\n",
       "    .dataframe thead th {\n",
       "        text-align: right;\n",
       "    }\n",
       "</style>\n",
       "<table border=\"1\" class=\"dataframe\">\n",
       "  <thead>\n",
       "    <tr style=\"text-align: right;\">\n",
       "      <th></th>\n",
       "      <th>Open</th>\n",
       "      <th>High</th>\n",
       "      <th>Low</th>\n",
       "      <th>Close</th>\n",
       "      <th>Volume</th>\n",
       "      <th>Adj Close</th>\n",
       "    </tr>\n",
       "  </thead>\n",
       "  <tbody>\n",
       "    <tr>\n",
       "      <th>count</th>\n",
       "      <td>1989.000000</td>\n",
       "      <td>1989.000000</td>\n",
       "      <td>1989.000000</td>\n",
       "      <td>1989.000000</td>\n",
       "      <td>1.989000e+03</td>\n",
       "      <td>1989.000000</td>\n",
       "    </tr>\n",
       "    <tr>\n",
       "      <th>mean</th>\n",
       "      <td>13459.116048</td>\n",
       "      <td>13541.303173</td>\n",
       "      <td>13372.931728</td>\n",
       "      <td>13463.032255</td>\n",
       "      <td>1.628110e+08</td>\n",
       "      <td>13463.032255</td>\n",
       "    </tr>\n",
       "    <tr>\n",
       "      <th>std</th>\n",
       "      <td>3143.281634</td>\n",
       "      <td>3136.271725</td>\n",
       "      <td>3150.420934</td>\n",
       "      <td>3144.006996</td>\n",
       "      <td>9.392343e+07</td>\n",
       "      <td>3144.006996</td>\n",
       "    </tr>\n",
       "    <tr>\n",
       "      <th>min</th>\n",
       "      <td>6547.009766</td>\n",
       "      <td>6709.609863</td>\n",
       "      <td>6469.950195</td>\n",
       "      <td>6547.049805</td>\n",
       "      <td>8.410000e+06</td>\n",
       "      <td>6547.049805</td>\n",
       "    </tr>\n",
       "    <tr>\n",
       "      <th>25%</th>\n",
       "      <td>10907.339844</td>\n",
       "      <td>11000.980469</td>\n",
       "      <td>10824.759766</td>\n",
       "      <td>10913.379883</td>\n",
       "      <td>1.000000e+08</td>\n",
       "      <td>10913.379883</td>\n",
       "    </tr>\n",
       "    <tr>\n",
       "      <th>50%</th>\n",
       "      <td>13022.049805</td>\n",
       "      <td>13088.110352</td>\n",
       "      <td>12953.129883</td>\n",
       "      <td>13025.580078</td>\n",
       "      <td>1.351700e+08</td>\n",
       "      <td>13025.580078</td>\n",
       "    </tr>\n",
       "    <tr>\n",
       "      <th>75%</th>\n",
       "      <td>16477.699219</td>\n",
       "      <td>16550.070312</td>\n",
       "      <td>16392.769531</td>\n",
       "      <td>16478.410156</td>\n",
       "      <td>1.926000e+08</td>\n",
       "      <td>16478.410156</td>\n",
       "    </tr>\n",
       "    <tr>\n",
       "      <th>max</th>\n",
       "      <td>18315.060547</td>\n",
       "      <td>18351.359375</td>\n",
       "      <td>18272.560547</td>\n",
       "      <td>18312.390625</td>\n",
       "      <td>6.749200e+08</td>\n",
       "      <td>18312.390625</td>\n",
       "    </tr>\n",
       "  </tbody>\n",
       "</table>\n",
       "</div>"
      ],
      "text/plain": [
       "               Open          High           Low         Close        Volume  \\\n",
       "count   1989.000000   1989.000000   1989.000000   1989.000000  1.989000e+03   \n",
       "mean   13459.116048  13541.303173  13372.931728  13463.032255  1.628110e+08   \n",
       "std     3143.281634   3136.271725   3150.420934   3144.006996  9.392343e+07   \n",
       "min     6547.009766   6709.609863   6469.950195   6547.049805  8.410000e+06   \n",
       "25%    10907.339844  11000.980469  10824.759766  10913.379883  1.000000e+08   \n",
       "50%    13022.049805  13088.110352  12953.129883  13025.580078  1.351700e+08   \n",
       "75%    16477.699219  16550.070312  16392.769531  16478.410156  1.926000e+08   \n",
       "max    18315.060547  18351.359375  18272.560547  18312.390625  6.749200e+08   \n",
       "\n",
       "          Adj Close  \n",
       "count   1989.000000  \n",
       "mean   13463.032255  \n",
       "std     3144.006996  \n",
       "min     6547.049805  \n",
       "25%    10913.379883  \n",
       "50%    13025.580078  \n",
       "75%    16478.410156  \n",
       "max    18312.390625  "
      ]
     },
     "execution_count": 12,
     "metadata": {},
     "output_type": "execute_result"
    }
   ],
   "source": [
    "df.describe()"
   ]
  },
  {
   "cell_type": "code",
   "execution_count": 9,
   "metadata": {},
   "outputs": [
    {
     "data": {
      "text/plain": [
       "Index(['Date', 'Open', 'High', 'Low', 'Close', 'Volume', 'Adj Close'], dtype='object')"
      ]
     },
     "execution_count": 9,
     "metadata": {},
     "output_type": "execute_result"
    }
   ],
   "source": [
    "df.columns"
   ]
  },
  {
   "cell_type": "code",
   "execution_count": null,
   "metadata": {},
   "outputs": [],
   "source": []
  },
  {
   "cell_type": "code",
   "execution_count": null,
   "metadata": {},
   "outputs": [],
   "source": []
  }
 ],
 "metadata": {
  "kernelspec": {
   "display_name": "Python 3",
   "language": "python",
   "name": "python3"
  },
  "language_info": {
   "codemirror_mode": {
    "name": "ipython",
    "version": 3
   },
   "file_extension": ".py",
   "mimetype": "text/x-python",
   "name": "python",
   "nbconvert_exporter": "python",
   "pygments_lexer": "ipython3",
   "version": "3.7.0"
  }
 },
 "nbformat": 4,
 "nbformat_minor": 2
}
